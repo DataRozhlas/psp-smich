{
 "cells": [
  {
   "cell_type": "code",
   "execution_count": 108,
   "metadata": {},
   "outputs": [],
   "source": [
    "import json, os, re\n",
    "from lxml import html"
   ]
  },
  {
   "cell_type": "code",
   "execution_count": 109,
   "metadata": {},
   "outputs": [],
   "source": [
    "def merge_content(folder):\n",
    "    filelist = []\n",
    "\n",
    "    for root, dirs, files in os.walk(folder):\n",
    "        for filename in files:\n",
    "            if filename[0] == 's':\n",
    "                filelist.append(root+\"/\"+filename)\n",
    "\n",
    "    filelist.sort()\n",
    "    content = []\n",
    "    \n",
    "    for filename in filelist:\n",
    "        with open(filename, encoding=\"utf8\") as file:\n",
    "            content.append(\"[[[FILE: \" +filename+\"]]]\")\n",
    "            start = 0\n",
    "            for line in file:\n",
    "                if \"<!-- eh -->\" in line or \"<!-- ex -->\" in line: start = 1\n",
    "                if \"<!-- sf -->\" in line or \"<!-- sy -->\" in line: start = 0\n",
    "                if start == 1: content.append(line)\n",
    "    \n",
    "    return(content)"
   ]
  },
  {
   "cell_type": "code",
   "execution_count": 110,
   "metadata": {},
   "outputs": [],
   "source": [
    "def get_date(folder):\n",
    "    session = str(int(folder.split(\"/\")[1].split(\"schuz\")[0]))\n",
    "    with open(folder+\"/\"+session+\"-1.htm\", encoding=\"utf8\") as file:\n",
    "        for line in file:\n",
    "            if line.startswith(\"<title>\"): \n",
    "                return line.split(\"schůze, \")[1].split(\"</title>\")[0].replace(\"&nbsp;\", \" \")"
   ]
  },
  {
   "cell_type": "code",
   "execution_count": 115,
   "metadata": {},
   "outputs": [],
   "source": [
    "def proc_merged(folder):\n",
    "    content = merge_content(folder)\n",
    "    date = get_date(folder)\n",
    "    \n",
    "    output = []\n",
    "    speaking = \"\"\n",
    "    link = \"\"\n",
    "    curspeech = {}\n",
    "    for line in content:\n",
    "        line = line.replace('&nbsp;',' ')\n",
    "        line = line.replace('***','')\n",
    "        \n",
    "        # link: http://www.psp.cz/eknih/2010ps/stenprot/007schuz/s007080.htm\n",
    "        if \"[[[FILE: \" in line:\n",
    "            innerlink = line.split(\"[[[FILE: \")[1].split(\"]]]\")[0].split(\"/\")\n",
    "            link = \"http://www.psp.cz/eknih/\" + innerlink[0] + \"ps/stenprot/\" + innerlink[1] + \"/\" + innerlink[2]\n",
    "            line = re.sub(\"\\[\\[\\[FILE:.*\\]\\]\\]\", \"\", line)\n",
    "    \n",
    "        # speech:\n",
    "        if \"<b><a href=\" in line or \"<b><a name=\" in line:\n",
    "            if speaking: \n",
    "                output.append(curspeech)\n",
    "                curspeech = {}\n",
    "            speaking = re.split('[<>]', line)\n",
    "            \n",
    "            curspeech[\"speaker\"] = speaking[6]\n",
    "            curspeech[\"link\"] = link\n",
    "            curspeech[\"date\"] = date\n",
    "            curspeech[\"speech\"] = html.document_fromstring(line).text_content()[len(speaking[6])+1:].strip()\n",
    "        elif \"<a href=\" in line[:30] and \"hlasy.sqw\" not in line and \"historie.sqw\" not in line:\n",
    "            if speaking: \n",
    "                output.append(curspeech)\n",
    "                curspeech = {}\n",
    "            speaking = re.split('[<>]',line)\n",
    "            curspeech[\"speaker\"] = speaking[4]\n",
    "            curspeech[\"link\"] = link\n",
    "            curspeech[\"date\"] = date\n",
    "            curspeech[\"speech\"] = speaking[6][1:].strip()\n",
    "        elif \"<b><u>\" in line:\n",
    "            if speaking: \n",
    "                output.append(curspeech)\n",
    "                curspeech = {}\n",
    "            speaking = re.split('[<>]',line)\n",
    "            \n",
    "            curspeech[\"speaker\"] = speaking[6]\n",
    "            curspeech[\"link\"] = link\n",
    "            curspeech[\"date\"] = date\n",
    "            curspeech[\"speech\"] = speaking[10][1:].strip()\n",
    "        elif speaking:\n",
    "            try: line = html.document_fromstring(line).text_content()\n",
    "            except:\n",
    "                line += \"<div></div>\"\n",
    "                line = html.document_fromstring(line).text_content()\n",
    "            if line.strip() != \"\": curspeech[\"speech\"] += \" \" + line.strip()\n",
    "    output.append(curspeech)\n",
    "    return output"
   ]
  },
  {
   "cell_type": "code",
   "execution_count": 116,
   "metadata": {},
   "outputs": [],
   "source": [
    "os.makedirs(\"json\", exist_ok=True)\n",
    "\n",
    "for year in [\"2010\", \"2013\", \"2017\"]:\n",
    "    os.makedirs(\"json/\"+year, exist_ok=True)\n",
    "    for folder in os.listdir(year):\n",
    "        if \"schuz\" in folder:\n",
    "            merged_folder = proc_merged(year+\"/\"+folder)\n",
    "            with open(\"json/\"+year+\"/\"+folder+\".json\", \"w\", encoding=\"utf8\") as file:\n",
    "                json.dump(merged_folder, file, ensure_ascii=False)"
   ]
  },
  {
   "cell_type": "code",
   "execution_count": null,
   "metadata": {},
   "outputs": [],
   "source": []
  },
  {
   "cell_type": "code",
   "execution_count": null,
   "metadata": {},
   "outputs": [],
   "source": []
  }
 ],
 "metadata": {
  "kernelspec": {
   "display_name": "Python 3",
   "language": "python",
   "name": "python3"
  },
  "language_info": {
   "codemirror_mode": {
    "name": "ipython",
    "version": 3
   },
   "file_extension": ".py",
   "mimetype": "text/x-python",
   "name": "python",
   "nbconvert_exporter": "python",
   "pygments_lexer": "ipython3",
   "version": "3.7.3"
  }
 },
 "nbformat": 4,
 "nbformat_minor": 4
}
