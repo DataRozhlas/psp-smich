{
 "cells": [
  {
   "cell_type": "code",
   "execution_count": 1,
   "metadata": {},
   "outputs": [],
   "source": [
    "import json, re\n",
    "from collections import defaultdict, Counter"
   ]
  },
  {
   "cell_type": "code",
   "execution_count": 2,
   "metadata": {},
   "outputs": [],
   "source": [
    "# 1000 normostran\n",
    "HAHAKOEFICIENT = 1800 * 1000"
   ]
  },
  {
   "cell_type": "code",
   "execution_count": 3,
   "metadata": {},
   "outputs": [],
   "source": [
    "def normalize_name(name):\n",
    "    prefixlist = [\"Poslanec\", \"Poslankyně\", \"Předseda PSP\", \"Předsedkyně PSP\", \"Místopředseda PSP\", \"Místopředsedkyně PSP\",\n",
    "                  \"Předseda vlády ČR\", \"Prezident České republiky\", \"Evropská komisařka pro spravedlnost, spotřebitele a rovnost žen a mužů\",\n",
    "                  \"Guvernér ČNB\", \"Veřejná ochránkyně práv\", \"Senátorka\", \"Senátor\", \"Předsedající\",\n",
    "                  \"Místopředseda vlády, ministr vnitra a ministr zahraničních věcí ČR\",\n",
    "                  \"Místopředseda vlády ČR, ministr vnitra a ministr zahraničních věcí\"]\n",
    "    for el in prefixlist:\n",
    "        if name.startswith(el): return name.replace(el + \" \", \"\")\n",
    "    if name == \" Radek Vondráček\": return \"Radek Vondráček\"\n",
    "    name = re.sub(\"Ministr(yně)? .* ČR \", \"\", name)\n",
    "    name = re.sub(\"Místopředsed(?:a|kyně) vlády(?: ČR)?(?: a ministr(?:yně)? .*?)?(?: ČR)? ([A-Z])\", \"\\\\1\", name)\n",
    "    return name"
   ]
  },
  {
   "cell_type": "code",
   "execution_count": 4,
   "metadata": {},
   "outputs": [],
   "source": [
    "with open(\"wc.json\", encoding=\"utf8\") as file:\n",
    "    data = json.load(file)"
   ]
  },
  {
   "cell_type": "code",
   "execution_count": 5,
   "metadata": {},
   "outputs": [],
   "source": [
    "with open(\"data.json\", encoding=\"utf8\") as file:\n",
    "    smich_data = json.load(file)"
   ]
  },
  {
   "cell_type": "code",
   "execution_count": 6,
   "metadata": {},
   "outputs": [],
   "source": [
    "smich_counter = defaultdict(int)\n",
    "for smich in smich_data:\n",
    "    smich_count = len(re.findall(\"\\(.*?[sS]mích.*?\\)\", smich[\"speech\"]))\n",
    "    smich_counter[normalize_name(smich[\"speaker\"])] += smich_count"
   ]
  },
  {
   "cell_type": "code",
   "execution_count": 9,
   "metadata": {},
   "outputs": [
    {
     "data": {
      "text/plain": [
       "1903"
      ]
     },
     "execution_count": 9,
     "metadata": {},
     "output_type": "execute_result"
    }
   ],
   "source": [
    "sum(smich_counter.values())"
   ]
  },
  {
   "cell_type": "code",
   "execution_count": 40,
   "metadata": {},
   "outputs": [],
   "source": [
    "#join\n",
    "for name in smich_counter:\n",
    "    for idx, el in enumerate(data):\n",
    "        if el[\"name\"] == name:\n",
    "            data[idx][\"haha\"] = smich_counter[name]"
   ]
  },
  {
   "cell_type": "code",
   "execution_count": 41,
   "metadata": {},
   "outputs": [],
   "source": [
    "#filter\n",
    "data = [el for el in data if \"haha\" in el]"
   ]
  },
  {
   "cell_type": "code",
   "execution_count": 42,
   "metadata": {},
   "outputs": [],
   "source": [
    "#normalize\n",
    "for idx, el in enumerate(data):\n",
    "    data[idx][\"hahaIndex\"] = round(el[\"haha\"] / el[\"wc\"] * HAHAKOEFICIENT)"
   ]
  },
  {
   "cell_type": "code",
   "execution_count": 43,
   "metadata": {},
   "outputs": [],
   "source": [
    "data.sort(key=lambda x: x[\"hahaIndex\"], reverse=True)"
   ]
  },
  {
   "cell_type": "code",
   "execution_count": 44,
   "metadata": {},
   "outputs": [],
   "source": [
    "with open(\"results_hahaindex.json\",\"w\",encoding=\"utf8\") as file:\n",
    "    json.dump([el for el in data if el[\"haha\"] > 2], file, ensure_ascii=False)"
   ]
  },
  {
   "cell_type": "code",
   "execution_count": null,
   "metadata": {},
   "outputs": [],
   "source": []
  }
 ],
 "metadata": {
  "kernelspec": {
   "display_name": "Python 3",
   "language": "python",
   "name": "python3"
  },
  "language_info": {
   "codemirror_mode": {
    "name": "ipython",
    "version": 3
   },
   "file_extension": ".py",
   "mimetype": "text/x-python",
   "name": "python",
   "nbconvert_exporter": "python",
   "pygments_lexer": "ipython3",
   "version": "3.7.3"
  }
 },
 "nbformat": 4,
 "nbformat_minor": 4
}
