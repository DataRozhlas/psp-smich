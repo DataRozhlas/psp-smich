{
 "cells": [
  {
   "cell_type": "code",
   "execution_count": 80,
   "metadata": {},
   "outputs": [],
   "source": [
    "import json, os, re"
   ]
  },
  {
   "cell_type": "code",
   "execution_count": 81,
   "metadata": {},
   "outputs": [],
   "source": [
    "filelist = [root+\"\\\\\"+filename for root, dirs, files in list(os.walk('json'))[1:] for filename in files]\n",
    "filelist.sort()"
   ]
  },
  {
   "cell_type": "code",
   "execution_count": 82,
   "metadata": {},
   "outputs": [],
   "source": [
    "humoristi = []\n",
    "for filename in filelist:\n",
    "    with open(filename, encoding=\"utf8\") as file:\n",
    "        file = json.load(file)\n",
    "        for el in file:\n",
    "            if el:\n",
    "                if re.search(\"\\(.*?[sS]mích.*?\\)\", el[\"speech\"]):\n",
    "                    humoristi.append(el)"
   ]
  },
  {
   "cell_type": "code",
   "execution_count": 83,
   "metadata": {},
   "outputs": [],
   "source": [
    "with open(\"data.json\", \"w\", encoding=\"utf8\") as file:\n",
    "    json.dump(humoristi, file, ensure_ascii=False)"
   ]
  },
  {
   "cell_type": "code",
   "execution_count": null,
   "metadata": {},
   "outputs": [],
   "source": []
  }
 ],
 "metadata": {
  "kernelspec": {
   "display_name": "Python 3",
   "language": "python",
   "name": "python3"
  },
  "language_info": {
   "codemirror_mode": {
    "name": "ipython",
    "version": 3
   },
   "file_extension": ".py",
   "mimetype": "text/x-python",
   "name": "python",
   "nbconvert_exporter": "python",
   "pygments_lexer": "ipython3",
   "version": "3.7.3"
  }
 },
 "nbformat": 4,
 "nbformat_minor": 4
}
