{
 "cells": [
  {
   "cell_type": "code",
   "execution_count": 26,
   "metadata": {},
   "outputs": [],
   "source": [
    "import json, re\n",
    "from collections import defaultdict"
   ]
  },
  {
   "cell_type": "code",
   "execution_count": 163,
   "metadata": {},
   "outputs": [],
   "source": [
    "# 1000 normostran\n",
    "HAHAKOEFICIENT = 1800 * 1000"
   ]
  },
  {
   "cell_type": "code",
   "execution_count": 164,
   "metadata": {},
   "outputs": [],
   "source": [
    "def to_utc(date):\n",
    "    def trnsl(month):\n",
    "        months = [\"ledna\", \"února\", \"března\", \"dubna\", \"května\", \"června\", \"července\", \"srpna\", \"září\", \"října\", \"listopadu\", \"prosince\"]\n",
    "        return months.index(month) + 1\n",
    "    date_parts = date.split()\n",
    "    return date_parts[2] + \"-\" \\\n",
    "        + str(trnsl(date_parts[1])).zfill(2) + \"-\" \\\n",
    "        + date_parts[0].strip(\".\").zfill(2)"
   ]
  },
  {
   "cell_type": "code",
   "execution_count": 165,
   "metadata": {},
   "outputs": [],
   "source": [
    "with open(\"data.json\", encoding=\"utf8\") as file:\n",
    "    smich_data = json.load(file)"
   ]
  },
  {
   "cell_type": "code",
   "execution_count": 166,
   "metadata": {},
   "outputs": [],
   "source": [
    "for smich in smich_data:\n",
    "    smich_count = len(re.findall(\"\\(.*?[sS]mích.*?\\)\", smich[\"speech\"]))\n",
    "    smich[\"haha\"] = smich_count\n",
    "    smich[\"wc\"] = len(smich[\"speech\"])\n",
    "    smich[\"date\"] = to_utc(smich[\"date\"])\n",
    "    del smich[\"speaker\"]\n",
    "    del smich[\"link\"]\n",
    "    del smich[\"speech\"]"
   ]
  },
  {
   "cell_type": "code",
   "execution_count": 167,
   "metadata": {},
   "outputs": [],
   "source": [
    "# merge\n",
    "data = {date: defaultdict(int) for date in set([el[\"date\"] for el in smich_data])}\n",
    "for smich in smich_data:\n",
    "    for el in [\"haha\", \"wc\"]:\n",
    "        data[smich[\"date\"]][el] += smich[el]"
   ]
  },
  {
   "cell_type": "code",
   "execution_count": 168,
   "metadata": {},
   "outputs": [],
   "source": [
    "# normalize\n",
    "for date in data:\n",
    "    data[date][\"hahaIndex\"] = round(data[date][\"haha\"] / data[date][\"wc\"] * HAHAKOEFICIENT)"
   ]
  },
  {
   "cell_type": "code",
   "execution_count": 169,
   "metadata": {},
   "outputs": [],
   "source": [
    "with open(\"results_timeline.json\",\"w\",encoding=\"utf8\") as file:\n",
    "    json.dump(data, file, ensure_ascii=False)"
   ]
  },
  {
   "cell_type": "code",
   "execution_count": 170,
   "metadata": {},
   "outputs": [],
   "source": [
    "with open(\"results_timeline_hahaindex.json\",\"w\",encoding=\"utf8\") as file:\n",
    "    json.dump(sorted([[date, data[date][\"hahaIndex\"]] for date in data]), file, ensure_ascii=False)"
   ]
  },
  {
   "cell_type": "code",
   "execution_count": null,
   "metadata": {},
   "outputs": [],
   "source": []
  }
 ],
 "metadata": {
  "kernelspec": {
   "display_name": "Python 3",
   "language": "python",
   "name": "python3"
  },
  "language_info": {
   "codemirror_mode": {
    "name": "ipython",
    "version": 3
   },
   "file_extension": ".py",
   "mimetype": "text/x-python",
   "name": "python",
   "nbconvert_exporter": "python",
   "pygments_lexer": "ipython3",
   "version": "3.7.3"
  }
 },
 "nbformat": 4,
 "nbformat_minor": 4
}
