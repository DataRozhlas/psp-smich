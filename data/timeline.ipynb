{
 "cells": [
  {
   "cell_type": "code",
   "execution_count": 26,
   "metadata": {},
   "outputs": [],
   "source": [
    "import json, re\n",
    "from collections import defaultdict"
   ]
  },
  {
   "cell_type": "code",
   "execution_count": 27,
   "metadata": {},
   "outputs": [],
   "source": [
    "def to_utc(date):\n",
    "    def trnsl(month):\n",
    "        months = [\"ledna\", \"února\", \"března\", \"dubna\", \"května\", \"června\", \"července\", \"srpna\", \"září\", \"října\", \"listopadu\", \"prosince\"]\n",
    "        return months.index(month) + 1\n",
    "    date_parts = date.split()\n",
    "    return date_parts[2] + \"-\" \\\n",
    "        + str(trnsl(date_parts[1])).zfill(2) + \"-\" \\\n",
    "        + date_parts[0].strip(\".\").zfill(2)"
   ]
  },
  {
   "cell_type": "code",
   "execution_count": 46,
   "metadata": {},
   "outputs": [],
   "source": [
    "with open(\"data.json\", encoding=\"utf8\") as file:\n",
    "    smich_data = json.load(file)"
   ]
  },
  {
   "cell_type": "code",
   "execution_count": 48,
   "metadata": {},
   "outputs": [],
   "source": [
    "for smich in smich_data:\n",
    "    smich_count = len(re.findall(\"\\(.*?[sS]mích.*?\\)\", smich[\"speech\"]))\n",
    "    smich[\"haha\"] = smich_count\n",
    "    smich[\"wc\"] = len(smich[\"speech\"])\n",
    "    smich[\"date\"] = to_utc(smich[\"date\"])\n",
    "    del smich[\"speaker\"]\n",
    "    del smich[\"link\"]\n",
    "    del smich[\"speech\"]"
   ]
  },
  {
   "cell_type": "code",
   "execution_count": 99,
   "metadata": {},
   "outputs": [],
   "source": [
    "# normalize\n",
    "for smich in smich_data:\n",
    "    smich[\"hahaNorm\"] = round(smich[\"haha\"]/smich[\"wc\"]*(10**4))"
   ]
  },
  {
   "cell_type": "code",
   "execution_count": 122,
   "metadata": {},
   "outputs": [],
   "source": [
    "# merge\n",
    "data = {date: defaultdict(int) for date in set([el[\"date\"] for el in smich_data])}\n",
    "for smich in smich_data:\n",
    "    for el in [\"haha\", \"wc\", \"hahaNorm\"]:\n",
    "        data[smich[\"date\"]][el] += smich[el]"
   ]
  },
  {
   "cell_type": "code",
   "execution_count": 123,
   "metadata": {},
   "outputs": [],
   "source": [
    "with open(\"results_timeline.json\",\"w\",encoding=\"utf8\") as file:\n",
    "    json.dump(data, file, ensure_ascii=False)"
   ]
  },
  {
   "cell_type": "code",
   "execution_count": 124,
   "metadata": {},
   "outputs": [],
   "source": [
    "with open(\"results_timeline_hahaindex.json\",\"w\",encoding=\"utf8\") as file:\n",
    "    json.dump([[date, data[date][\"hahaNorm\"]] for date in data], file, ensure_ascii=False)"
   ]
  },
  {
   "cell_type": "code",
   "execution_count": 125,
   "metadata": {},
   "outputs": [
    {
     "data": {
      "text/plain": [
       "[['2012-06-05', 851],\n",
       " ['2015-09-15', 550],\n",
       " ['2018-03-07', 18],\n",
       " ['2016-05-24', 356],\n",
       " ['2013-12-04', 92],\n",
       " ['2014-09-02', 1],\n",
       " ['2019-05-29', 5],\n",
       " ['2017-05-16', 305],\n",
       " ['2018-07-11', 194],\n",
       " ['2013-08-16', 26],\n",
       " ['2011-11-04', 314],\n",
       " ['2018-12-04', 852],\n",
       " ['2019-07-09', 391],\n",
       " ['2014-02-04', 356],\n",
       " ['2010-12-07', 1194],\n",
       " ['2013-03-19', 289],\n",
       " ['2018-05-22', 1276],\n",
       " ['2012-03-13', 427],\n",
       " ['2011-02-01', 500],\n",
       " ['2015-03-10', 1168],\n",
       " ['2018-09-11', 420],\n",
       " ['2014-01-21', 158],\n",
       " ['2015-10-01', 19],\n",
       " ['2010-08-10', 1],\n",
       " ['2017-09-05', 214],\n",
       " ['2011-09-22', 3],\n",
       " ['2015-06-16', 618],\n",
       " ['2015-06-18', 579],\n",
       " ['2010-12-21', 294],\n",
       " ['2013-02-05', 278],\n",
       " ['2017-12-12', 366],\n",
       " ['2016-04-12', 593],\n",
       " ['2012-07-18', 72],\n",
       " ['2012-04-24', 673],\n",
       " ['2011-08-30', 221],\n",
       " ['2013-12-06', 16],\n",
       " ['2018-03-09', 80],\n",
       " ['2017-10-16', 12],\n",
       " ['2019-05-28', 611],\n",
       " ['2014-11-04', 30],\n",
       " ['2013-06-11', 231],\n",
       " ['2014-09-16', 478],\n",
       " ['2018-08-22', 41],\n",
       " ['2015-01-20', 1064],\n",
       " ['2014-04-29', 901],\n",
       " ['2016-06-28', 743],\n",
       " ['2018-10-23', 1229],\n",
       " ['2010-10-26', 487],\n",
       " ['2013-07-17', 9],\n",
       " ['2012-12-04', 403],\n",
       " ['2015-10-27', 494],\n",
       " ['2011-04-26', 1591],\n",
       " ['2019-03-05', 669],\n",
       " ['2012-09-04', 2],\n",
       " ['2016-10-18', 913],\n",
       " ['2011-07-12', 203],\n",
       " ['2012-03-20', 88],\n",
       " ['2014-12-12', 106],\n",
       " ['2014-12-02', 603],\n",
       " ['2018-04-10', 204],\n",
       " ['2017-04-04', 485],\n",
       " ['2016-01-19', 756],\n",
       " ['2015-12-11', 637],\n",
       " ['2013-01-17', 53],\n",
       " ['2017-02-21', 312],\n",
       " ['2017-11-20', 329],\n",
       " ['2016-03-01', 476],\n",
       " ['2016-03-23', 194],\n",
       " ['2010-11-02', 41],\n",
       " ['2016-11-29', 960],\n",
       " ['2014-10-21', 685],\n",
       " ['2013-05-07', 425],\n",
       " ['2015-11-24', 570],\n",
       " ['2010-06-22', 17],\n",
       " ['2011-09-20', 346],\n",
       " ['2012-01-31', 191],\n",
       " ['2016-01-28', 2],\n",
       " ['2018-01-10', 66],\n",
       " ['2017-01-10', 602],\n",
       " ['2012-04-27', 34],\n",
       " ['2018-02-27', 236],\n",
       " ['2014-09-10', 1],\n",
       " ['2018-11-23', 52],\n",
       " ['2019-04-16', 599],\n",
       " ['2016-11-11', 3],\n",
       " ['2017-06-27', 310],\n",
       " ['2012-07-10', 688],\n",
       " ['2013-08-07', 152],\n",
       " ['2018-01-17', 348],\n",
       " ['2013-12-10', 587],\n",
       " ['2015-04-28', 729],\n",
       " ['2016-09-06', 686],\n",
       " ['2011-06-07', 906],\n",
       " ['2014-06-10', 579],\n",
       " ['2015-05-26', 255],\n",
       " ['2016-04-21', 6],\n",
       " ['2011-12-06', 769],\n",
       " ['2018-06-26', 127],\n",
       " ['2018-11-15', 5],\n",
       " ['2015-10-06', 1630],\n",
       " ['2014-03-18', 755],\n",
       " ['2014-07-15', 235],\n",
       " ['2017-05-10', 145],\n",
       " ['2011-10-25', 2466],\n",
       " ['2014-07-24', 5],\n",
       " ['2010-09-07', 12],\n",
       " ['2012-09-18', 977],\n",
       " ['2012-02-09', 2],\n",
       " ['2019-01-22', 500],\n",
       " ['2013-11-25', 152],\n",
       " ['2010-09-21', 618],\n",
       " ['2011-03-15', 1204],\n",
       " ['2010-09-23', 107],\n",
       " ['2019-06-26', 161],\n",
       " ['2012-10-23', 1095]]"
      ]
     },
     "execution_count": 125,
     "metadata": {},
     "output_type": "execute_result"
    }
   ],
   "source": [
    "[[date, data[date][\"hahaNorm\"]] for date in data]"
   ]
  }
 ],
 "metadata": {
  "kernelspec": {
   "display_name": "Python 3",
   "language": "python",
   "name": "python3"
  },
  "language_info": {
   "codemirror_mode": {
    "name": "ipython",
    "version": 3
   },
   "file_extension": ".py",
   "mimetype": "text/x-python",
   "name": "python",
   "nbconvert_exporter": "python",
   "pygments_lexer": "ipython3",
   "version": "3.7.3"
  }
 },
 "nbformat": 4,
 "nbformat_minor": 4
}
