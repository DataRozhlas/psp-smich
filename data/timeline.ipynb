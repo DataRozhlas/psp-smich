{
 "cells": [
  {
   "cell_type": "code",
   "execution_count": 55,
   "metadata": {},
   "outputs": [],
   "source": [
    "import json, os, re\n",
    "from collections import defaultdict"
   ]
  },
  {
   "cell_type": "code",
   "execution_count": 56,
   "metadata": {},
   "outputs": [],
   "source": [
    "# 1000 normostran\n",
    "HAHAKOEFICIENT = 1800 * 1000"
   ]
  },
  {
   "cell_type": "code",
   "execution_count": 57,
   "metadata": {},
   "outputs": [],
   "source": [
    "def to_utc(date):\n",
    "    def trnsl(month):\n",
    "        months = [\"ledna\", \"února\", \"března\", \"dubna\", \"května\", \"června\", \"července\", \"srpna\", \"září\", \"října\", \"listopadu\", \"prosince\"]\n",
    "        return months.index(month) + 1\n",
    "    date_parts = date.split()\n",
    "    return date_parts[2] + \"-\" \\\n",
    "        + str(trnsl(date_parts[1])).zfill(2) + \"-\" \\\n",
    "        + date_parts[0].strip(\".\").zfill(2)"
   ]
  },
  {
   "cell_type": "code",
   "execution_count": null,
   "metadata": {},
   "outputs": [],
   "source": [
    "# date/wc\n",
    "wcdict = {}\n",
    "filelist = sorted(root+\"\\\\\"+filename for root, dirs, files in list(os.walk('json'))[1:] for filename in files)\n",
    "for filename in filelist:\n",
    "    wc = 0\n",
    "    date = \"\"\n",
    "    with open(filename, encoding=\"utf8\") as file:\n",
    "        file = json.load(file)\n",
    "        for el in file:\n",
    "            if el:\n",
    "                if not date:\n",
    "                    date = el[\"date\"]\n",
    "                wc += len(el[\"speech\"])\n",
    "                \n",
    "    if date not in wcdict: wcdict[date] = []\n",
    "    wcdict[date].append(wc)"
   ]
  },
  {
   "cell_type": "code",
   "execution_count": null,
   "metadata": {},
   "outputs": [],
   "source": [
    "with open(\"data.json\", encoding=\"utf8\") as file:\n",
    "    smich_data = json.load(file)\n",
    "\n",
    "for smich in smich_data:\n",
    "    smich_count = len(re.findall(\"\\(.*?[sS]mích.*?\\)\", smich[\"speech\"]))\n",
    "    smich[\"haha\"] = smich_count\n",
    "    smich[\"wc\"] = sum(wcdict[smich[\"date\"]])\n",
    "    smich[\"date\"] = to_utc(smich[\"date\"])\n",
    "    del smich[\"speaker\"]\n",
    "    del smich[\"link\"]\n",
    "    del smich[\"speech\"]\n",
    "smich_data"
   ]
  },
  {
   "cell_type": "code",
   "execution_count": 118,
   "metadata": {},
   "outputs": [],
   "source": [
    "# merge\n",
    "data = {date: {\"haha\": 0, \"wc\": 0} for date in set([el[\"date\"] for el in smich_data])}\n",
    "for smich in smich_data:\n",
    "    data[smich[\"date\"]][\"haha\"] += smich[\"haha\"]\n",
    "    data[smich[\"date\"]][\"wc\"] = smich[\"wc\"]"
   ]
  },
  {
   "cell_type": "code",
   "execution_count": 119,
   "metadata": {},
   "outputs": [],
   "source": [
    "# normalize\n",
    "for date in data:\n",
    "    data[date][\"hahaIndex\"] = round(data[date][\"haha\"] / data[date][\"wc\"] * HAHAKOEFICIENT)"
   ]
  },
  {
   "cell_type": "code",
   "execution_count": 120,
   "metadata": {},
   "outputs": [],
   "source": [
    "with open(\"results_timeline.json\",\"w\",encoding=\"utf8\") as file:\n",
    "    json.dump(data, file, ensure_ascii=False)"
   ]
  },
  {
   "cell_type": "code",
   "execution_count": 41,
   "metadata": {},
   "outputs": [],
   "source": []
  },
  {
   "cell_type": "code",
   "execution_count": null,
   "metadata": {},
   "outputs": [],
   "source": []
  }
 ],
 "metadata": {
  "kernelspec": {
   "display_name": "Python 3",
   "language": "python",
   "name": "python3"
  },
  "language_info": {
   "codemirror_mode": {
    "name": "ipython",
    "version": 3
   },
   "file_extension": ".py",
   "mimetype": "text/x-python",
   "name": "python",
   "nbconvert_exporter": "python",
   "pygments_lexer": "ipython3",
   "version": "3.7.3"
  }
 },
 "nbformat": 4,
 "nbformat_minor": 4
}
